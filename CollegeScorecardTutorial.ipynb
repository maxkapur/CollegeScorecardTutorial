{
 "cells": [
  {
   "cell_type": "markdown",
   "metadata": {},
   "source": [
    "# How to use the College Scorecard API\n",
    "\n",
    "Max Kapur | [maxkapur.com](https://www.maxkapur.com)\n",
    "\n",
    "Prerequisites:\n",
    "\n",
    "1. This tutorial assumes basic familiarity of Python and Jupyter notebooks.\n",
    "1. Sign up for an API key from [https://api.data.gov/signup/](https://api.data.gov/signup/). You will get an email with your API key, which is a long string of letters and numbers.\n",
    "2. Download the College Scorecard Data Dictionary from [https://collegescorecard.ed.gov/data/documentation/](https://collegescorecard.ed.gov/data/documentation/). This is an Excel spreadsheet that contains the names of all the columns available in the dataset."
   ]
  },
  {
   "cell_type": "code",
   "execution_count": null,
   "metadata": {},
   "outputs": [],
   "source": [
    "import requests\n",
    "import pandas as pd\n",
    "\n",
    "# Optional\n",
    "import matplotlib.pyplot as plt\n",
    "import cartopy.crs as ccrs\n",
    "from scipy.stats import ttest_rel"
   ]
  },
  {
   "cell_type": "markdown",
   "metadata": {},
   "source": [
    "## HTTP `request.get()`\n",
    "\n",
    "`request.get(url)` is a function that tells Python to download whatever is available at the URL. It gives us a bunch of information, including whether the request worked and the contents of the webpage (if the URL points to a webpage)."
   ]
  },
  {
   "cell_type": "code",
   "execution_count": null,
   "metadata": {},
   "outputs": [],
   "source": [
    "resp = requests.get(\"https://www.youtube.com\")\n",
    "dir(resp)"
   ]
  },
  {
   "cell_type": "markdown",
   "metadata": {},
   "source": [
    "Code 200 means OK."
   ]
  },
  {
   "cell_type": "code",
   "execution_count": null,
   "metadata": {},
   "outputs": [],
   "source": [
    "resp.status_code"
   ]
  },
  {
   "cell_type": "markdown",
   "metadata": {},
   "source": [
    "Contents of the webpage:"
   ]
  },
  {
   "cell_type": "code",
   "execution_count": null,
   "metadata": {},
   "outputs": [],
   "source": [
    "print(resp.text[:1000])"
   ]
  },
  {
   "cell_type": "code",
   "execution_count": null,
   "metadata": {},
   "outputs": [],
   "source": [
    "resp = requests.get(\"https://www.example.com/pagethatdoesnotexist\")\n",
    "resp.status_code"
   ]
  },
  {
   "cell_type": "markdown",
   "metadata": {},
   "source": [
    "## How to access College Scorecard data\n",
    "\n",
    "Cobbled together from [the official API documentation](https://github.com/RTICWDT/open-data-maker/blob/master/API.md) and various examples from StackExchange.\n",
    "\n",
    "We need to create a special URL that points to the College Scorecard database and includes our request&mdash;which information we want and from which years."
   ]
  },
  {
   "cell_type": "code",
   "execution_count": null,
   "metadata": {},
   "outputs": [],
   "source": [
    "base_url = \"https://api.data.gov/ed/collegescorecard/v1/\"\n",
    "dataset = \"schools.json?\"\n",
    "filter_params = \"latest.student.size__range=25000..\"\n",
    "fields = [\"id\",\n",
    "          \"school.name\",\n",
    "          \"2014.student.size\",\n",
    "          \"2019.student.size\",\n",
    "          \"location.lat\",\n",
    "          \"location.lon\",\n",
    "          \"latest.admissions.sat_scores.midpoint.math\",\n",
    "          \"latest.admissions.act_scores.midpoint.math\",\n",
    "          \"oops.variable.does.not.exist\"]\n",
    "options = \"&per_page=100&page=0\"\n",
    "api_key = \"&api_key=abc123yourkey\"          # Your API key goes here.\n",
    "\n",
    "# with open(\"api_key.txt\") as f:\n",
    "#     api_key = \"&api_key=\" + f.readlines()[0]\n",
    "# api_key\n",
    "\n",
    "request_url = base_url + dataset + filter_params + \\\n",
    "              \"&fields=\" + \",\".join(fields) + options + api_key\n",
    "print(request_url[:-40])"
   ]
  },
  {
   "cell_type": "markdown",
   "metadata": {},
   "source": [
    "Common pitfalls:\n",
    "\n",
    "- You can only pass one filter parameter at a time. If you want to filter on multiple categories, use the narrowest criterion in `filter_params` and then do the rest using the [selection tools built into Pandas](https://pandas.pydata.org/pandas-docs/stable/user_guide/indexing.html).\n",
    "\n",
    "- Use `?` to introduce the query (I included it above in the variable `dataset`), then `&` to separate further elements.\n",
    "\n",
    "- Use a comma to separate fields. I do this using `\",\".join(fields)` above.\n",
    "\n",
    "- For variable names, refer to the Data Dictionary we downloaded earlier. Must preface with the year (or `latest`) and the \"dev-category\"&mdash;*except* for variables whose dev category is `school` (omit year) or `root` (omit year *and* dev category).\n",
    "\n",
    "- For the latest data, you can type `latest` or the year. \n",
    "\n",
    "- If you type a variable name incorrectly, there is no obvious warning. It will simply be missing from the output. \n",
    "\n",
    "- Replace `abc123yourkey` with your API key."
   ]
  },
  {
   "cell_type": "code",
   "execution_count": null,
   "metadata": {},
   "outputs": [],
   "source": [
    "resp = requests.get(request_url)\n",
    "# Raises an HTTPError unless status_code==200 (OK)\n",
    "resp.raise_for_status()"
   ]
  },
  {
   "cell_type": "markdown",
   "metadata": {},
   "source": [
    "Common errors when working with the College Scorecard database are:\n",
    "- 404: You probably wrote the URL wrong.\n",
    "- 429: You have made too many get requests. The default limit is 1000 per hour. A good way to avoid this is to always use `&per_page=100`.\n",
    "- 500: An internal server error. Just wait a moment and try again.\n",
    "\n",
    "## Wrangling the data into a legible format\n",
    "\n",
    "Now `resp` contains the response from the [data.gov](https://www.data.gov) server. The server stores College Scorecard data in a format called JSON. It will be easier to do data analysis, however, if we can get the data into a Pandas data frame. We can then export to Excel or CSV if needed."
   ]
  },
  {
   "cell_type": "code",
   "execution_count": null,
   "metadata": {},
   "outputs": [],
   "source": [
    "resp.json()"
   ]
  },
  {
   "cell_type": "markdown",
   "metadata": {},
   "source": [
    "The information we requested is stored in `resp.json()['results']`. Now we use the Python package Pandas to read this JSON file into a tabular format called a data frame. \n",
    "\n",
    "I changed the index of the data frame to the school ID from the database."
   ]
  },
  {
   "cell_type": "code",
   "execution_count": null,
   "metadata": {},
   "outputs": [],
   "source": [
    "college_info = pd.DataFrame(resp.json()['results']).set_index('id')\n",
    "college_info"
   ]
  },
  {
   "cell_type": "code",
   "execution_count": null,
   "metadata": {},
   "outputs": [],
   "source": [
    "college_info.to_excel(\"college_info.xlsx\")"
   ]
  },
  {
   "cell_type": "markdown",
   "metadata": {},
   "source": [
    "## Exploratory data analysis in Pandas"
   ]
  },
  {
   "cell_type": "code",
   "execution_count": null,
   "metadata": {},
   "outputs": [],
   "source": [
    "college_info.describe()"
   ]
  },
  {
   "cell_type": "code",
   "execution_count": null,
   "metadata": {},
   "outputs": [],
   "source": [
    "college_info.corr()"
   ]
  },
  {
   "cell_type": "code",
   "execution_count": null,
   "metadata": {},
   "outputs": [],
   "source": [
    "plt.figure(figsize=(8, 8))\n",
    "plt.scatter(college_info['latest.admissions.act_scores.midpoint.math'],\n",
    "            college_info['latest.admissions.sat_scores.midpoint.math'])"
   ]
  },
  {
   "cell_type": "code",
   "execution_count": null,
   "metadata": {},
   "outputs": [],
   "source": [
    "has_size_info = college_info.dropna(subset=['2014.student.size', '2019.student.size']).index\n",
    "ttest_rel(college_info['2014.student.size'].loc[has_size_info],\n",
    "          college_info['2019.student.size'].loc[has_size_info])"
   ]
  },
  {
   "cell_type": "markdown",
   "metadata": {},
   "source": [
    "According to this data, there was a statistically insignificant decline in the enrollment at large universities over the five-year period from 2014 to 2019. "
   ]
  },
  {
   "cell_type": "markdown",
   "metadata": {},
   "source": [
    "## Map the largest universities in the US"
   ]
  },
  {
   "cell_type": "code",
   "execution_count": null,
   "metadata": {},
   "outputs": [],
   "source": [
    "fig = plt.figure(figsize=(15, 10))\n",
    "ax = fig.add_subplot(1, 1, 1, projection=ccrs.PlateCarree())\n",
    "ax.set_extent([-130, -60, 21, 45])\n",
    "ax.stock_img()\n",
    "ax.gridlines()\n",
    "ax.coastlines(resolution='50m')\n",
    "ax.scatter(college_info['location.lon'],\n",
    "           college_info['location.lat'],\n",
    "           color=\"lightpink\",\n",
    "           s=4e-3*college_info['2019.student.size'],\n",
    "           alpha=0.8,\n",
    "           ec=\"black\")"
   ]
  },
  {
   "cell_type": "code",
   "execution_count": null,
   "metadata": {},
   "outputs": [],
   "source": []
  }
 ],
 "metadata": {
  "kernelspec": {
   "display_name": "Python 3",
   "language": "python",
   "name": "python3"
  },
  "language_info": {
   "codemirror_mode": {
    "name": "ipython",
    "version": 3
   },
   "file_extension": ".py",
   "mimetype": "text/x-python",
   "name": "python",
   "nbconvert_exporter": "python",
   "pygments_lexer": "ipython3",
   "version": "3.7.3"
  }
 },
 "nbformat": 4,
 "nbformat_minor": 4
}
